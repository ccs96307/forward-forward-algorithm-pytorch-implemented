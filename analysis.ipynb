{
 "cells": [
  {
   "cell_type": "code",
   "execution_count": 3,
   "metadata": {},
   "outputs": [
    {
     "name": "stdout",
     "output_type": "stream",
     "text": [
      "Files already downloaded and verified\n",
      "Mean: tensor(0.4734)\n",
      "Std: tensor(0.2182)\n"
     ]
    }
   ],
   "source": [
    "from torchvision import datasets, transforms\n",
    "import torch\n",
    "\n",
    "# Load CIFAR-10 dataset\n",
    "cifar10_train = datasets.CIFAR10(root=\"CIFAR10\", train=True, download=True, transform=transforms.ToTensor())\n",
    "\n",
    "# Compute mean and std\n",
    "mean = 0.0\n",
    "var = 0.0\n",
    "num_pixels = 0\n",
    "for images, _ in cifar10_train:\n",
    "    flattened_images = images.view(-1)\n",
    "    mean += flattened_images.mean()\n",
    "    var += flattened_images.var()\n",
    "    num_pixels += flattened_images.numel()\n",
    "\n",
    "mean = mean / len(cifar10_train)\n",
    "std = torch.sqrt(var / len(cifar10_train))\n",
    "\n",
    "print(\"Mean:\", mean)\n",
    "print(\"Std:\", std)\n",
    "\n"
   ]
  },
  {
   "cell_type": "code",
   "execution_count": null,
   "metadata": {},
   "outputs": [],
   "source": []
  }
 ],
 "metadata": {
  "interpreter": {
   "hash": "c6747903916dc58a7ba40bc6ae759cb749c0812e4b412aba9b66e06fcd59c242"
  },
  "kernelspec": {
   "display_name": "Python 3.8.17 ('venv': venv)",
   "language": "python",
   "name": "python3"
  },
  "language_info": {
   "codemirror_mode": {
    "name": "ipython",
    "version": 3
   },
   "file_extension": ".py",
   "mimetype": "text/x-python",
   "name": "python",
   "nbconvert_exporter": "python",
   "pygments_lexer": "ipython3",
   "version": "3.8.17"
  },
  "orig_nbformat": 4
 },
 "nbformat": 4,
 "nbformat_minor": 2
}
